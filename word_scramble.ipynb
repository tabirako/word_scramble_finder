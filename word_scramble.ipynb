{
 "cells": [
  {
   "cell_type": "code",
   "execution_count": 9,
   "id": "69cb5962-bb94-4b2d-b6db-410b34c17444",
   "metadata": {
    "tags": []
   },
   "outputs": [
    {
     "name": "stdin",
     "output_type": "stream",
     "text": [
      "What's the minimal length of a legal word: 3\n",
      "Enter all required letters:(enter any number if you want to leave) ake\n"
     ]
    },
    {
     "name": "stdout",
     "output_type": "stream",
     "text": [
      "kea\take\taek\teka\tkae\teak\t"
     ]
    },
    {
     "name": "stdin",
     "output_type": "stream",
     "text": [
      "Enter all required letters:(enter any number if you want to leave) -1\n"
     ]
    }
   ],
   "source": [
    "#dictionary from https://norvig.com/\n",
    "\n",
    "\n",
    "\n",
    "from collections import Counter \n",
    "\n",
    "n = input(\"What's the minimal length of a legal word:\")\n",
    "\n",
    "#read the files\n",
    "files = list()\n",
    "#i = 0\n",
    "with open(\"count_1w.txt\") as file:\n",
    "        for item in file:\n",
    "            \n",
    "            #use this part to limit to the first 5k of dictionary\n",
    "            #i+=1\n",
    "            #\n",
    "            #if i >= 5000:\n",
    "            #    break\n",
    "            \n",
    "            #the list is already sorted by their popularity so we don't need to sort it later\n",
    "            word = item.rstrip('\\n')\n",
    "            word = word.split('\\t')[0]\n",
    "            if len(word) >= int(n):\n",
    "                files.append(word)\n",
    "                \n",
    "#counting using Counter            \n",
    "items = []\n",
    "for item in files:\n",
    "    c = Counter(item)\n",
    "    length = len(item)\n",
    "    items.append([item,c,length])\n",
    "    \n",
    "#main test loop\n",
    "while(True):\n",
    "    required = input(\"Enter all required letters:(enter any number if you want to leave)\")\n",
    "    if any(char.isdigit() for char in required):\n",
    "        break\n",
    "    \n",
    "    #count the input letters\n",
    "    d = Counter(required)\n",
    "    #print(d)\n",
    "    \n",
    "    #character test\n",
    "    def test_if_bad(item,d):\n",
    "        for i in item[1]:\n",
    "            if d.get(i) == None or d.get(i) < item[1][i]:\n",
    "                return True\n",
    "\n",
    "        return False\n",
    "\n",
    "    _len = sum(d.values())\n",
    "    res = []\n",
    "    for item in items:\n",
    "        if item[2] <= _len: # too long\n",
    "            #res.append(item)\n",
    "\n",
    "            if test_if_bad(item,d): # checks for letters count\n",
    "                continue\n",
    "\n",
    "            else:\n",
    "                res.append(item) # ok we good \n",
    "        else:\n",
    "            continue\n",
    "\n",
    "    for word in res:\n",
    "        print(word[0], end=\"\\t\")"
   ]
  },
  {
   "cell_type": "code",
   "execution_count": null,
   "id": "721c0d2a-8f3e-412b-918e-6b770754c665",
   "metadata": {},
   "outputs": [],
   "source": []
  }
 ],
 "metadata": {
  "kernelspec": {
   "display_name": "Python 3 (ipykernel)",
   "language": "python",
   "name": "python3"
  },
  "language_info": {
   "codemirror_mode": {
    "name": "ipython",
    "version": 3
   },
   "file_extension": ".py",
   "mimetype": "text/x-python",
   "name": "python",
   "nbconvert_exporter": "python",
   "pygments_lexer": "ipython3",
   "version": "3.9.17"
  }
 },
 "nbformat": 4,
 "nbformat_minor": 5
}
